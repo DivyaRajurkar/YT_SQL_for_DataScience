{
    "metadata": {
        "kernelspec": {
            "name": "SQL",
            "display_name": "SQL",
            "language": "sql"
        },
        "language_info": {
            "name": "sql",
            "version": ""
        }
    },
    "nbformat_minor": 2,
    "nbformat": 4,
    "cells": [
        {
            "cell_type": "markdown",
            "source": [
                "# Select Data"
            ],
            "metadata": {
                "azdata_cell_guid": "136a45ef-5366-40ee-b402-24c502bfbd96"
            },
            "attachments": {}
        },
        {
            "cell_type": "code",
            "source": [
                "Select top 10 * from dbo.retail_OrderDetails"
            ],
            "metadata": {
                "azdata_cell_guid": "ab4ae1a7-0d85-4012-bbbe-7507412adb8d"
            },
            "outputs": [
                {
                    "output_type": "display_data",
                    "data": {
                        "text/html": "(10 rows affected)"
                    },
                    "metadata": {}
                },
                {
                    "output_type": "display_data",
                    "data": {
                        "text/html": "Total execution time: 00:00:00.009"
                    },
                    "metadata": {}
                },
                {
                    "output_type": "execute_result",
                    "metadata": {},
                    "execution_count": 6,
                    "data": {
                        "application/vnd.dataresource+json": {
                            "schema": {
                                "fields": [
                                    {
                                        "name": "OrderID"
                                    },
                                    {
                                        "name": "OrderDate"
                                    },
                                    {
                                        "name": "PropertyID"
                                    },
                                    {
                                        "name": "ProductID"
                                    },
                                    {
                                        "name": "Quantity"
                                    },
                                    {
                                        "name": "Sales"
                                    },
                                    {
                                        "name": "ProductName"
                                    },
                                    {
                                        "name": "ProductCategory"
                                    },
                                    {
                                        "name": "Price"
                                    },
                                    {
                                        "name": "PropertyCity"
                                    },
                                    {
                                        "name": "PropertyState"
                                    }
                                ]
                            },
                            "data": [
                                {
                                    "0": "1",
                                    "1": "2015-01-01",
                                    "2": "17",
                                    "3": "41",
                                    "4": "1",
                                    "5": "85",
                                    "6": "Office Chair",
                                    "7": "Furnishings",
                                    "8": "85",
                                    "9": "Las Vegas",
                                    "10": "Nevada"
                                },
                                {
                                    "0": "2",
                                    "1": "2015-01-01",
                                    "2": "15",
                                    "3": "54",
                                    "4": "2",
                                    "5": "300",
                                    "6": "Chest of Drawers",
                                    "7": "Furnishings",
                                    "8": "150",
                                    "9": "Chicago",
                                    "10": "Illinois"
                                },
                                {
                                    "0": "3",
                                    "1": "2015-01-01",
                                    "2": "5",
                                    "3": "71",
                                    "4": "2",
                                    "5": "34",
                                    "6": "Hammer",
                                    "7": "Maintenance",
                                    "8": "17",
                                    "9": "Kansas City",
                                    "10": "Missouri"
                                },
                                {
                                    "0": "4",
                                    "1": "2015-01-01",
                                    "2": "19",
                                    "3": "3",
                                    "4": "2",
                                    "5": "6",
                                    "6": "Washcloth",
                                    "7": "Housekeeping",
                                    "8": "3",
                                    "9": "Los Angeles",
                                    "10": "California"
                                },
                                {
                                    "0": "5",
                                    "1": "2015-01-01",
                                    "2": "12",
                                    "3": "45",
                                    "4": "3",
                                    "5": "306",
                                    "6": "Computer Desk",
                                    "7": "Furnishings",
                                    "8": "102",
                                    "9": "Dallas",
                                    "10": "Texas"
                                },
                                {
                                    "0": "6",
                                    "1": "2015-01-01",
                                    "2": "6",
                                    "3": "94",
                                    "4": "2",
                                    "5": "140",
                                    "6": "Monitor",
                                    "7": "Public Areas",
                                    "8": "70",
                                    "9": "Orlando",
                                    "10": "Florida"
                                },
                                {
                                    "0": "7",
                                    "1": "2015-01-01",
                                    "2": "5",
                                    "3": "35",
                                    "4": "2",
                                    "5": "50",
                                    "6": "Tissue Box",
                                    "7": "Furnishings",
                                    "8": "25",
                                    "9": "Kansas City",
                                    "10": "Missouri"
                                },
                                {
                                    "0": "8",
                                    "1": "2015-01-02",
                                    "2": "16",
                                    "3": "93",
                                    "4": "1",
                                    "5": "85",
                                    "6": "Terminal",
                                    "7": "Public Areas",
                                    "8": "85",
                                    "9": "Denver",
                                    "10": "Colorado"
                                },
                                {
                                    "0": "9",
                                    "1": "2015-01-02",
                                    "2": "4",
                                    "3": "93",
                                    "4": "3",
                                    "5": "255",
                                    "6": "Terminal",
                                    "7": "Public Areas",
                                    "8": "85",
                                    "9": "Seattle",
                                    "10": "Washington"
                                },
                                {
                                    "0": "10",
                                    "1": "2015-01-02",
                                    "2": "2",
                                    "3": "61",
                                    "4": "2",
                                    "5": "16",
                                    "6": "Tape Measure",
                                    "7": "Maintenance",
                                    "8": "8",
                                    "9": "Cincinnati",
                                    "10": "Ohio"
                                }
                            ]
                        },
                        "text/html": [
                            "<table>",
                            "<tr><th>OrderID</th><th>OrderDate</th><th>PropertyID</th><th>ProductID</th><th>Quantity</th><th>Sales</th><th>ProductName</th><th>ProductCategory</th><th>Price</th><th>PropertyCity</th><th>PropertyState</th></tr>",
                            "<tr><td>1</td><td>2015-01-01</td><td>17</td><td>41</td><td>1</td><td>85</td><td>Office Chair</td><td>Furnishings</td><td>85</td><td>Las Vegas</td><td>Nevada</td></tr>",
                            "<tr><td>2</td><td>2015-01-01</td><td>15</td><td>54</td><td>2</td><td>300</td><td>Chest of Drawers</td><td>Furnishings</td><td>150</td><td>Chicago</td><td>Illinois</td></tr>",
                            "<tr><td>3</td><td>2015-01-01</td><td>5</td><td>71</td><td>2</td><td>34</td><td>Hammer</td><td>Maintenance</td><td>17</td><td>Kansas City</td><td>Missouri</td></tr>",
                            "<tr><td>4</td><td>2015-01-01</td><td>19</td><td>3</td><td>2</td><td>6</td><td>Washcloth</td><td>Housekeeping</td><td>3</td><td>Los Angeles</td><td>California</td></tr>",
                            "<tr><td>5</td><td>2015-01-01</td><td>12</td><td>45</td><td>3</td><td>306</td><td>Computer Desk</td><td>Furnishings</td><td>102</td><td>Dallas</td><td>Texas</td></tr>",
                            "<tr><td>6</td><td>2015-01-01</td><td>6</td><td>94</td><td>2</td><td>140</td><td>Monitor</td><td>Public Areas</td><td>70</td><td>Orlando</td><td>Florida</td></tr>",
                            "<tr><td>7</td><td>2015-01-01</td><td>5</td><td>35</td><td>2</td><td>50</td><td>Tissue Box</td><td>Furnishings</td><td>25</td><td>Kansas City</td><td>Missouri</td></tr>",
                            "<tr><td>8</td><td>2015-01-02</td><td>16</td><td>93</td><td>1</td><td>85</td><td>Terminal</td><td>Public Areas</td><td>85</td><td>Denver</td><td>Colorado</td></tr>",
                            "<tr><td>9</td><td>2015-01-02</td><td>4</td><td>93</td><td>3</td><td>255</td><td>Terminal</td><td>Public Areas</td><td>85</td><td>Seattle</td><td>Washington</td></tr>",
                            "<tr><td>10</td><td>2015-01-02</td><td>2</td><td>61</td><td>2</td><td>16</td><td>Tape Measure</td><td>Maintenance</td><td>8</td><td>Cincinnati</td><td>Ohio</td></tr>",
                            "</table>"
                        ]
                    }
                }
            ],
            "execution_count": 6
        },
        {
            "cell_type": "code",
            "source": [
                "Select top 10 * from dbo.retail_Products"
            ],
            "metadata": {
                "azdata_cell_guid": "a1c43122-e0d2-40af-b9f0-32a0d297648d"
            },
            "outputs": [
                {
                    "output_type": "display_data",
                    "data": {
                        "text/html": "(10 rows affected)"
                    },
                    "metadata": {}
                },
                {
                    "output_type": "display_data",
                    "data": {
                        "text/html": "Total execution time: 00:00:00.004"
                    },
                    "metadata": {}
                },
                {
                    "output_type": "execute_result",
                    "metadata": {},
                    "execution_count": 8,
                    "data": {
                        "application/vnd.dataresource+json": {
                            "schema": {
                                "fields": [
                                    {
                                        "name": "ProductID"
                                    },
                                    {
                                        "name": "ProductName"
                                    },
                                    {
                                        "name": "ProductCategory"
                                    },
                                    {
                                        "name": "Price"
                                    }
                                ]
                            },
                            "data": [
                                {
                                    "0": "1",
                                    "1": "Large Towel",
                                    "2": "Housekeeping",
                                    "3": "9"
                                },
                                {
                                    "0": "2",
                                    "1": "Hand Towel",
                                    "2": "Housekeeping",
                                    "3": "5"
                                },
                                {
                                    "0": "3",
                                    "1": "Washcloth",
                                    "2": "Housekeeping",
                                    "3": "3"
                                },
                                {
                                    "0": "4",
                                    "1": "Shampoo",
                                    "2": "Housekeeping",
                                    "3": "40"
                                },
                                {
                                    "0": "5",
                                    "1": "Moisturizer",
                                    "2": "Housekeeping",
                                    "3": "40"
                                },
                                {
                                    "0": "6",
                                    "1": "Conditioner",
                                    "2": "Housekeeping",
                                    "3": "40"
                                },
                                {
                                    "0": "7",
                                    "1": "Hand Soap",
                                    "2": "Housekeeping",
                                    "3": "35"
                                },
                                {
                                    "0": "8",
                                    "1": "Bath Soap",
                                    "2": "Housekeeping",
                                    "3": "35"
                                },
                                {
                                    "0": "9",
                                    "1": "Tissues",
                                    "2": "Housekeeping",
                                    "3": "14"
                                },
                                {
                                    "0": "10",
                                    "1": "Toilet Paper",
                                    "2": "Housekeeping",
                                    "3": "19"
                                }
                            ]
                        },
                        "text/html": [
                            "<table>",
                            "<tr><th>ProductID</th><th>ProductName</th><th>ProductCategory</th><th>Price</th></tr>",
                            "<tr><td>1</td><td>Large Towel</td><td>Housekeeping</td><td>9</td></tr>",
                            "<tr><td>2</td><td>Hand Towel</td><td>Housekeeping</td><td>5</td></tr>",
                            "<tr><td>3</td><td>Washcloth</td><td>Housekeeping</td><td>3</td></tr>",
                            "<tr><td>4</td><td>Shampoo</td><td>Housekeeping</td><td>40</td></tr>",
                            "<tr><td>5</td><td>Moisturizer</td><td>Housekeeping</td><td>40</td></tr>",
                            "<tr><td>6</td><td>Conditioner</td><td>Housekeeping</td><td>40</td></tr>",
                            "<tr><td>7</td><td>Hand Soap</td><td>Housekeeping</td><td>35</td></tr>",
                            "<tr><td>8</td><td>Bath Soap</td><td>Housekeeping</td><td>35</td></tr>",
                            "<tr><td>9</td><td>Tissues</td><td>Housekeeping</td><td>14</td></tr>",
                            "<tr><td>10</td><td>Toilet Paper</td><td>Housekeeping</td><td>19</td></tr>",
                            "</table>"
                        ]
                    }
                }
            ],
            "execution_count": 8
        },
        {
            "cell_type": "code",
            "source": [
                "Select top 10 * from dbo.retail_PropertyInfo"
            ],
            "metadata": {
                "azdata_cell_guid": "7f50c319-96a9-482c-b3a8-dd9578b9b082"
            },
            "outputs": [
                {
                    "output_type": "display_data",
                    "data": {
                        "text/html": "(10 rows affected)"
                    },
                    "metadata": {}
                },
                {
                    "output_type": "display_data",
                    "data": {
                        "text/html": "Total execution time: 00:00:00.009"
                    },
                    "metadata": {}
                },
                {
                    "output_type": "execute_result",
                    "metadata": {},
                    "execution_count": 9,
                    "data": {
                        "application/vnd.dataresource+json": {
                            "schema": {
                                "fields": [
                                    {
                                        "name": "Prop_ID"
                                    },
                                    {
                                        "name": "PropertyCity"
                                    },
                                    {
                                        "name": "PropertyState"
                                    }
                                ]
                            },
                            "data": [
                                {
                                    "0": "1",
                                    "1": "New York",
                                    "2": "New York"
                                },
                                {
                                    "0": "2",
                                    "1": "Cincinnati",
                                    "2": "Ohio"
                                },
                                {
                                    "0": "3",
                                    "1": "Portland",
                                    "2": "Oregon"
                                },
                                {
                                    "0": "4",
                                    "1": "Seattle",
                                    "2": "Washington"
                                },
                                {
                                    "0": "5",
                                    "1": "Kansas City",
                                    "2": "Missouri"
                                },
                                {
                                    "0": "6",
                                    "1": "Orlando",
                                    "2": "Florida"
                                },
                                {
                                    "0": "7",
                                    "1": "Boston",
                                    "2": "Massachusetts"
                                },
                                {
                                    "0": "8",
                                    "1": "Philadelphia",
                                    "2": "Pennsylvania"
                                },
                                {
                                    "0": "9",
                                    "1": "Richmond",
                                    "2": "Virginia"
                                },
                                {
                                    "0": "10",
                                    "1": "Arlington",
                                    "2": "Virginia"
                                }
                            ]
                        },
                        "text/html": [
                            "<table>",
                            "<tr><th>Prop_ID</th><th>PropertyCity</th><th>PropertyState</th></tr>",
                            "<tr><td>1</td><td>New York</td><td>New York</td></tr>",
                            "<tr><td>2</td><td>Cincinnati</td><td>Ohio</td></tr>",
                            "<tr><td>3</td><td>Portland</td><td>Oregon</td></tr>",
                            "<tr><td>4</td><td>Seattle</td><td>Washington</td></tr>",
                            "<tr><td>5</td><td>Kansas City</td><td>Missouri</td></tr>",
                            "<tr><td>6</td><td>Orlando</td><td>Florida</td></tr>",
                            "<tr><td>7</td><td>Boston</td><td>Massachusetts</td></tr>",
                            "<tr><td>8</td><td>Philadelphia</td><td>Pennsylvania</td></tr>",
                            "<tr><td>9</td><td>Richmond</td><td>Virginia</td></tr>",
                            "<tr><td>10</td><td>Arlington</td><td>Virginia</td></tr>",
                            "</table>"
                        ]
                    }
                }
            ],
            "execution_count": 9
        }
    ]
}